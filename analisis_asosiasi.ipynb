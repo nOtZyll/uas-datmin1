{
 "cells": [
  {
   "cell_type": "markdown",
   "id": "73b1a9d1",
   "metadata": {},
   "source": [
    "# EDA"
   ]
  },
  {
   "cell_type": "markdown",
   "id": "2c326a7e",
   "metadata": {},
   "source": [
    "# 1: Setup dan Read Data"
   ]
  },
  {
   "cell_type": "code",
   "execution_count": 29,
   "id": "261ea6ef",
   "metadata": {},
   "outputs": [
    {
     "name": "stdout",
     "output_type": "stream",
     "text": [
      "Dataset berhasil dimuat.\n",
      "Bentuk data: 732 baris, 62 kolom\n",
      "\n",
      "Data Awal:\n"
     ]
    },
    {
     "data": {
      "application/vnd.microsoft.datawrangler.viewer.v0+json": {
       "columns": [
        {
         "name": "index",
         "rawType": "int64",
         "type": "integer"
        },
        {
         "name": "Judul Masakan",
         "rawType": "object",
         "type": "string"
        },
        {
         "name": "Waktu Masak",
         "rawType": "object",
         "type": "string"
        },
        {
         "name": "Tingkat Kesulitan",
         "rawType": "object",
         "type": "string"
        },
        {
         "name": "Jumlah Porsi",
         "rawType": "object",
         "type": "string"
        },
        {
         "name": "Bahan-bahan",
         "rawType": "object",
         "type": "string"
        },
        {
         "name": "URL Sumber",
         "rawType": "object",
         "type": "string"
        },
        {
         "name": "Bahan-bahan_cleaned",
         "rawType": "object",
         "type": "string"
        },
        {
         "name": "Bahan-bahan_cleaned_nostop",
         "rawType": "object",
         "type": "string"
        },
        {
         "name": "bahan-bahan_fix",
         "rawType": "object",
         "type": "string"
        },
        {
         "name": "Waktu Masak (menit)",
         "rawType": "int64",
         "type": "integer"
        },
        {
         "name": "Jumlah Porsi (int)",
         "rawType": "int64",
         "type": "integer"
        },
        {
         "name": "Tingkat Kesulitan (ordinal)",
         "rawType": "float64",
         "type": "float"
        },
        {
         "name": "bahan_list",
         "rawType": "object",
         "type": "string"
        },
        {
         "name": "asam jawa",
         "rawType": "int64",
         "type": "integer"
        },
        {
         "name": "bawang",
         "rawType": "int64",
         "type": "integer"
        },
        {
         "name": "bawang merah",
         "rawType": "int64",
         "type": "integer"
        },
        {
         "name": "bawang putih",
         "rawType": "int64",
         "type": "integer"
        },
        {
         "name": "cabai",
         "rawType": "int64",
         "type": "integer"
        },
        {
         "name": "cabai hijau",
         "rawType": "int64",
         "type": "integer"
        },
        {
         "name": "cabai merah",
         "rawType": "int64",
         "type": "integer"
        },
        {
         "name": "cabai rawit",
         "rawType": "int64",
         "type": "integer"
        },
        {
         "name": "cengkih",
         "rawType": "int64",
         "type": "integer"
        },
        {
         "name": "cuka",
         "rawType": "int64",
         "type": "integer"
        },
        {
         "name": "daging ayam",
         "rawType": "int64",
         "type": "integer"
        },
        {
         "name": "daging kambing",
         "rawType": "int64",
         "type": "integer"
        },
        {
         "name": "daging sapi",
         "rawType": "int64",
         "type": "integer"
        },
        {
         "name": "daun bawang",
         "rawType": "int64",
         "type": "integer"
        },
        {
         "name": "daun jeruk",
         "rawType": "int64",
         "type": "integer"
        },
        {
         "name": "daun salam",
         "rawType": "int64",
         "type": "integer"
        },
        {
         "name": "garam",
         "rawType": "int64",
         "type": "integer"
        },
        {
         "name": "gula",
         "rawType": "int64",
         "type": "integer"
        },
        {
         "name": "gula merah",
         "rawType": "int64",
         "type": "integer"
        },
        {
         "name": "gula pasir",
         "rawType": "int64",
         "type": "integer"
        },
        {
         "name": "ikan",
         "rawType": "int64",
         "type": "integer"
        },
        {
         "name": "jagung",
         "rawType": "int64",
         "type": "integer"
        },
        {
         "name": "jahe",
         "rawType": "int64",
         "type": "integer"
        },
        {
         "name": "jamur",
         "rawType": "int64",
         "type": "integer"
        },
        {
         "name": "jeruk nipis",
         "rawType": "int64",
         "type": "integer"
        },
        {
         "name": "kacang",
         "rawType": "int64",
         "type": "integer"
        },
        {
         "name": "kaldu ayam",
         "rawType": "int64",
         "type": "integer"
        },
        {
         "name": "kaldu sapi",
         "rawType": "int64",
         "type": "integer"
        },
        {
         "name": "kayu manis",
         "rawType": "int64",
         "type": "integer"
        },
        {
         "name": "kecap manis",
         "rawType": "int64",
         "type": "integer"
        },
        {
         "name": "kemangi",
         "rawType": "int64",
         "type": "integer"
        },
        {
         "name": "kemiri",
         "rawType": "int64",
         "type": "integer"
        },
        {
         "name": "kencur",
         "rawType": "int64",
         "type": "integer"
        },
        {
         "name": "ketumbar",
         "rawType": "int64",
         "type": "integer"
        },
        {
         "name": "kol",
         "rawType": "int64",
         "type": "integer"
        },
        {
         "name": "kunyit",
         "rawType": "int64",
         "type": "integer"
        },
        {
         "name": "lengkuas",
         "rawType": "int64",
         "type": "integer"
        },
        {
         "name": "limau",
         "rawType": "int64",
         "type": "integer"
        },
        {
         "name": "merica",
         "rawType": "int64",
         "type": "integer"
        },
        {
         "name": "santan",
         "rawType": "int64",
         "type": "integer"
        },
        {
         "name": "seledri",
         "rawType": "int64",
         "type": "integer"
        },
        {
         "name": "serai",
         "rawType": "int64",
         "type": "integer"
        },
        {
         "name": "tahu",
         "rawType": "int64",
         "type": "integer"
        },
        {
         "name": "telur",
         "rawType": "int64",
         "type": "integer"
        },
        {
         "name": "tempe",
         "rawType": "int64",
         "type": "integer"
        },
        {
         "name": "tomat",
         "rawType": "int64",
         "type": "integer"
        },
        {
         "name": "udang",
         "rawType": "int64",
         "type": "integer"
        },
        {
         "name": "wijen",
         "rawType": "int64",
         "type": "integer"
        },
        {
         "name": "wortel",
         "rawType": "int64",
         "type": "integer"
        }
       ],
       "ref": "f5078d8e-2802-4a7f-8e2d-539a2ba7b7e7",
       "rows": [
        [
         "0",
         "Resep Tempe Goreng Tepung Pedas Krispi yang Bikin Nagih",
         "30mnt",
         "Mudah",
         "4 Porsi",
         "300 g tempe, iris tipis, 150 g tepung terigu, 1 sdm tepung maizena, ⅓ sdt baking powder, 320 ml air, 1 batang daun bawang, iris tipis, 4 buah cabai rawit, cincang halus, 1 sdtRoyco Kaldu Ayam, Minyak, untuk menggoreng, 6 butir bawang merah, 4 siung bawang putih, 1 sdm ketumbar bubuk, ½ sdt merica putih bubuk",
         "https://www.masakapahariini.com/resep/resep-tempe-goreng-tepung-pedas/",
         "['g', 'tempe', 'iris', 'tipis', 'g', 'tepung', 'terigu', 'sdm', 'tepung', 'maizena', 'sdt', 'baking', 'powder', 'ml', 'air', 'batang', 'daun', 'bawang', 'iris', 'tipis', 'buah', 'cabai', 'rawit', 'cincang', 'halus', 'sdtroyco', 'kaldu', 'ayam', 'minyak', 'untuk', 'menggoreng', 'butir', 'bawang', 'merah', 'siung', 'bawang', 'putih', 'sdm', 'ketumbar', 'bubuk', 'sdt', 'merica', 'putih', 'bubuk']",
         "['tempe', 'tepung', 'terigu', 'tepung', 'maizena', 'baking', 'daun', 'bawang', 'cabai', 'rawit', 'kaldu', 'ayam', 'minyak', 'bawang', 'merah', 'bawang', 'putih', 'ketumbar', 'merica', 'putih']",
         "bawang putih, bawang merah, kaldu ayam, cabai rawit, daun bawang, merica, ketumbar, tempe",
         "30",
         "4",
         "1.0",
         "['bawang putih', 'bawang merah', 'kaldu ayam', 'cabai rawit', 'daun bawang', 'merica', 'ketumbar', 'tempe']",
         "0",
         "0",
         "1",
         "1",
         "0",
         "0",
         "0",
         "1",
         "0",
         "0",
         "0",
         "0",
         "0",
         "1",
         "0",
         "0",
         "0",
         "0",
         "0",
         "0",
         "0",
         "0",
         "0",
         "0",
         "0",
         "0",
         "1",
         "0",
         "0",
         "0",
         "0",
         "0",
         "0",
         "1",
         "0",
         "0",
         "0",
         "0",
         "1",
         "0",
         "0",
         "0",
         "0",
         "0",
         "1",
         "0",
         "0",
         "0",
         "0"
        ],
        [
         "1",
         "Resep Kikil Sapi Kuah Pedas Manis, Empuk, Kenyal, dan Sedap",
         "2j 30mnt",
         "Sedang",
         "4 Porsi",
         "500 g             \t\t\t\ttunjang atau kikil yang sudah dibersihkan, 2 lembar             \t\t\t\tdaun salam, 6 lembar             \t\t\t\tdaun jeruk, 2 batang             \t\t\t\tserai, memarkan, 2 sdmBango Kecap Manis, 1 sdtRoyco Kaldu Sapi, 10 buah             \t\t\t\tcabai rawit merah utuh, 2 buah             \t\t\t\ttomat, potong 4 bagian, 3 sdm             \t\t\t\tminyak, untuk menumis, Air, untuk merebus, 10 butir             \t\t\t\tbawang merah, 4 siung             \t\t\t\tbawang putih, 5 buah             \t\t\t\tcabai rawit merah, 3 buah             \t\t\t\tcabai merah besar, 3 cm             \t\t\t\tjahe, 3 butir             \t\t\t\tkemiri, 2 cm             \t\t\t\tkunyit, 1 sdm             \t\t\t\tketumbar bubuk, 1 sdt             \t\t\t\tgaram, ½ sdt             \t\t\t\tmerica bubuk, Bawang goreng, Jeruk limau",
         "https://www.masakapahariini.com/resep/resep-kikil-sapi-kuah-pedas-manis-empuk-kenyal-dan-sedap/",
         "['g', 'tunjang', 'atau', 'kikil', 'yang', 'sudah', 'dibersihkan', 'lembar', 'daun', 'salam', 'lembar', 'daun', 'jeruk', 'batang', 'serai', 'memarkan', 'sdmbango', 'kecap', 'manis', 'sdtroyco', 'kaldu', 'sapi', 'buah', 'cabai', 'rawit', 'merah', 'utuh', 'buah', 'tomat', 'potong', 'bagian', 'sdm', 'minyak', 'untuk', 'menumis', 'air', 'untuk', 'merebus', 'butir', 'bawang', 'merah', 'siung', 'bawang', 'putih', 'buah', 'cabai', 'rawit', 'merah', 'buah', 'cabai', 'merah', 'besar', 'cm', 'jahe', 'butir', 'kemiri', 'cm', 'kunyit', 'sdm', 'ketumbar', 'bubuk', 'sdt', 'garam', 'sdt', 'merica', 'bubuk', 'bawang', 'goreng', 'jeruk', 'limau']",
         "['tunjang', 'kikil', 'yang', 'sudah', 'dibersihkan', 'daun', 'salam', 'daun', 'jeruk', 'serai', 'kecap', 'manis', 'kaldu', 'sapi', 'cabai', 'rawit', 'merah', 'tomat', 'minyak', 'bawang', 'merah', 'bawang', 'putih', 'cabai', 'rawit', 'merah', 'cabai', 'merah', 'jahe', 'kemiri', 'kunyit', 'ketumbar', 'garam', 'merica', 'bawang', 'goreng', 'jeruk', 'limau']",
         "bawang putih, bawang merah, kecap manis, cabai merah, cabai rawit, daun salam, daun jeruk, kaldu sapi, limau, bawang, garam, merica, serai, jahe, kemiri, ketumbar, tomat, kunyit",
         "150",
         "4",
         "2.0",
         "['bawang putih', 'bawang merah', 'kecap manis', 'cabai merah', 'cabai rawit', 'daun salam', 'daun jeruk', 'kaldu sapi', 'limau', 'bawang', 'garam', 'merica', 'serai', 'jahe', 'kemiri', 'ketumbar', 'tomat', 'kunyit']",
         "0",
         "1",
         "1",
         "1",
         "0",
         "0",
         "1",
         "1",
         "0",
         "0",
         "0",
         "0",
         "0",
         "0",
         "1",
         "1",
         "1",
         "0",
         "0",
         "0",
         "0",
         "0",
         "1",
         "0",
         "0",
         "0",
         "0",
         "1",
         "0",
         "1",
         "0",
         "1",
         "0",
         "1",
         "0",
         "1",
         "0",
         "1",
         "1",
         "0",
         "0",
         "1",
         "0",
         "0",
         "0",
         "1",
         "0",
         "0",
         "0"
        ],
        [
         "2",
         "Resep Tempe Penyet Sambal Petis Sederhana ala Rumahan",
         "30mnt",
         "Mudah",
         "4 Porsi",
         "300 g tempe, potong tebal 2 cm, ½ sdm garam, 1 sdt ketumbar bubuk, 500 ml santan dari 1/2 butir kelapa, 5 buah cabai merah keriting, goreng, 5 buah cabai rawit merah, goreng, 2 siung bawang putih, goreng, 2 sdm petis, ¼ sdt garam, ¼ sdt gula pasir, 2 sdmBango Kecap Manis, 25 ml air hangat",
         "https://www.masakapahariini.com/resep/resep-tempe-penyet-saus-petis/",
         "['g', 'tempe', 'potong', 'tebal', 'cm', 'sdm', 'garam', 'sdt', 'ketumbar', 'bubuk', 'ml', 'santan', 'dari', 'butir', 'kelapa', 'buah', 'cabai', 'merah', 'keriting', 'goreng', 'buah', 'cabai', 'rawit', 'merah', 'goreng', 'siung', 'bawang', 'putih', 'goreng', 'sdm', 'petis', 'sdt', 'garam', 'sdt', 'gula', 'pasir', 'sdmbango', 'kecap', 'manis', 'ml', 'air', 'hangat']",
         "['tempe', 'garam', 'ketumbar', 'santan', 'kelapa', 'cabai', 'merah', 'keriting', 'goreng', 'cabai', 'rawit', 'merah', 'goreng', 'bawang', 'putih', 'goreng', 'petis', 'garam', 'gula', 'pasir', 'kecap', 'manis']",
         "bawang putih, kecap manis, cabai merah, cabai rawit, gula pasir, garam, ketumbar, santan, tempe",
         "30",
         "4",
         "1.0",
         "['bawang putih', 'kecap manis', 'cabai merah', 'cabai rawit', 'gula pasir', 'garam', 'ketumbar', 'santan', 'tempe']",
         "0",
         "0",
         "0",
         "1",
         "0",
         "0",
         "1",
         "1",
         "0",
         "0",
         "0",
         "0",
         "0",
         "0",
         "0",
         "0",
         "1",
         "0",
         "0",
         "1",
         "0",
         "0",
         "0",
         "0",
         "0",
         "0",
         "0",
         "0",
         "0",
         "1",
         "0",
         "0",
         "0",
         "1",
         "0",
         "0",
         "0",
         "0",
         "0",
         "1",
         "0",
         "0",
         "0",
         "0",
         "1",
         "0",
         "0",
         "0",
         "0"
        ],
        [
         "3",
         "Resep Bakmi Jawa Jogja Goreng Enak dan Gampang Bikinnya",
         "1jam",
         "Mudah",
         "2 Porsi",
         "200 g mie basah, 150 g dada ayam fillet, potong dadu, 3 butir telur ayam, 20 g sawi hijau, potong ukuran 2 cm, 3 sdtRoyco Kaldu Ayam, 3 sdmBango Kecap Manis, ½ sdt garam, 150 ml air, 5 sdm minyak sayur, 5 butir bawang merah, 3 siung bawang putih, 15 g kemiri, sangrai, 10 g ebi kering, sangrai, 3 sdm minyak sayur, 2 sdm bawang merah goreng, 5 g kerupuk bawang",
         "https://www.masakapahariini.com/resep/resep-bakmi-jogja-goreng/",
         "['g', 'mie', 'basah', 'g', 'dada', 'ayam', 'fillet', 'potong', 'dadu', 'butir', 'telur', 'ayam', 'g', 'sawi', 'hijau', 'potong', 'ukuran', 'cm', 'sdtroyco', 'kaldu', 'ayam', 'sdmbango', 'kecap', 'manis', 'sdt', 'garam', 'ml', 'air', 'sdm', 'minyak', 'sayur', 'butir', 'bawang', 'merah', 'siung', 'bawang', 'putih', 'g', 'kemiri', 'sangrai', 'g', 'ebi', 'kering', 'sangrai', 'sdm', 'minyak', 'sayur', 'sdm', 'bawang', 'merah', 'goreng', 'g', 'kerupuk', 'bawang']",
         "['mie', 'basah', 'dada', 'ayam', 'telur', 'ayam', 'sawi', 'hijau', 'kaldu', 'ayam', 'kecap', 'manis', 'garam', 'minyak', 'sayur', 'bawang', 'merah', 'bawang', 'putih', 'kemiri', 'ebi', 'kering', 'minyak', 'sayur', 'bawang', 'merah', 'goreng', 'kerupuk', 'bawang']",
         "bawang putih, bawang merah, kecap manis, kaldu ayam, bawang, garam, kemiri, telur",
         "60",
         "2",
         "1.0",
         "['bawang putih', 'bawang merah', 'kecap manis', 'kaldu ayam', 'bawang', 'garam', 'kemiri', 'telur']",
         "0",
         "1",
         "1",
         "1",
         "0",
         "0",
         "0",
         "0",
         "0",
         "0",
         "0",
         "0",
         "0",
         "0",
         "0",
         "0",
         "1",
         "0",
         "0",
         "0",
         "0",
         "0",
         "0",
         "0",
         "0",
         "0",
         "1",
         "0",
         "0",
         "1",
         "0",
         "1",
         "0",
         "0",
         "0",
         "0",
         "0",
         "0",
         "0",
         "0",
         "0",
         "0",
         "0",
         "1",
         "0",
         "0",
         "0",
         "0",
         "0"
        ],
        [
         "4",
         "Resep Sayur Asem Bening Sederhana ala Rumahan, Segar dan Mudah Dibuat",
         "45mnt",
         "Mudah",
         "4 Porsi",
         "1 buah             \t\t\t\tjagung manis, potong 4-5 bagian, 1 buah             \t\t\t\tlabu siam, kupas, potong kotak 2,5 cm, 70 g             \t\t\t\tmelinjo, 4 sdm             \t\t\t\tkacang tanah, 5 batang             \t\t\t\tkacang panjang, potong 3 cm, 30 g             \t\t\t\tdaun melinjo, 1200 ml             \t\t\t\tair, 7 butir             \t\t\t\tbawang merah, iris, 4 buah             \t\t\t\tcabai merah, belah 2 bagian, 3 cm             \t\t\t\tlengkuas, memarkan, 2 lembar             \t\t\t\tdaun salam, 2 sdm             \t\t\t\tasam jawa, larutkan dengan 3 sdm air, ½ sdmRoyco Kaldu Ayam, 1 sdt             \t\t\t\tgaram, 1 sdm             \t\t\t\tgula merah sisir",
         "https://www.masakapahariini.com/resep/resep-sayur-asem-bening-sederhana/",
         "['buah', 'jagung', 'manis', 'potong', 'bagian', 'buah', 'labu', 'siam', 'kupas', 'potong', 'kotak', 'cm', 'g', 'melinjo', 'sdm', 'kacang', 'tanah', 'batang', 'kacang', 'panjang', 'potong', 'cm', 'g', 'daun', 'melinjo', 'ml', 'air', 'butir', 'bawang', 'merah', 'iris', 'buah', 'cabai', 'merah', 'belah', 'bagian', 'cm', 'lengkuas', 'memarkan', 'lembar', 'daun', 'salam', 'sdm', 'asam', 'jawa', 'larutkan', 'dengan', 'sdm', 'air', 'sdmroyco', 'kaldu', 'ayam', 'sdt', 'garam', 'sdm', 'gula', 'merah', 'sisir']",
         "['jagung', 'manis', 'labu', 'siam', 'melinjo', 'kacang', 'kacang', 'daun', 'melinjo', 'bawang', 'merah', 'cabai', 'merah', 'lengkuas', 'daun', 'salam', 'asam', 'jawa', 'kaldu', 'ayam', 'garam', 'gula', 'merah']",
         "bawang merah, kaldu ayam, cabai merah, daun salam, gula merah, asam jawa, garam, lengkuas, kacang, jagung",
         "45",
         "4",
         "1.0",
         "['bawang merah', 'kaldu ayam', 'cabai merah', 'daun salam', 'gula merah', 'asam jawa', 'garam', 'lengkuas', 'kacang', 'jagung']",
         "1",
         "0",
         "1",
         "0",
         "0",
         "0",
         "1",
         "0",
         "0",
         "0",
         "0",
         "0",
         "0",
         "0",
         "0",
         "1",
         "1",
         "0",
         "1",
         "0",
         "0",
         "1",
         "0",
         "0",
         "0",
         "1",
         "1",
         "0",
         "0",
         "0",
         "0",
         "0",
         "0",
         "0",
         "0",
         "0",
         "1",
         "0",
         "0",
         "0",
         "0",
         "0",
         "0",
         "0",
         "0",
         "0",
         "0",
         "0",
         "0"
        ]
       ],
       "shape": {
        "columns": 62,
        "rows": 5
       }
      },
      "text/html": [
       "<div>\n",
       "<style scoped>\n",
       "    .dataframe tbody tr th:only-of-type {\n",
       "        vertical-align: middle;\n",
       "    }\n",
       "\n",
       "    .dataframe tbody tr th {\n",
       "        vertical-align: top;\n",
       "    }\n",
       "\n",
       "    .dataframe thead th {\n",
       "        text-align: right;\n",
       "    }\n",
       "</style>\n",
       "<table border=\"1\" class=\"dataframe\">\n",
       "  <thead>\n",
       "    <tr style=\"text-align: right;\">\n",
       "      <th></th>\n",
       "      <th>Judul Masakan</th>\n",
       "      <th>Waktu Masak</th>\n",
       "      <th>Tingkat Kesulitan</th>\n",
       "      <th>Jumlah Porsi</th>\n",
       "      <th>Bahan-bahan</th>\n",
       "      <th>URL Sumber</th>\n",
       "      <th>Bahan-bahan_cleaned</th>\n",
       "      <th>Bahan-bahan_cleaned_nostop</th>\n",
       "      <th>bahan-bahan_fix</th>\n",
       "      <th>Waktu Masak (menit)</th>\n",
       "      <th>...</th>\n",
       "      <th>santan</th>\n",
       "      <th>seledri</th>\n",
       "      <th>serai</th>\n",
       "      <th>tahu</th>\n",
       "      <th>telur</th>\n",
       "      <th>tempe</th>\n",
       "      <th>tomat</th>\n",
       "      <th>udang</th>\n",
       "      <th>wijen</th>\n",
       "      <th>wortel</th>\n",
       "    </tr>\n",
       "  </thead>\n",
       "  <tbody>\n",
       "    <tr>\n",
       "      <th>0</th>\n",
       "      <td>Resep Tempe Goreng Tepung Pedas Krispi yang Bi...</td>\n",
       "      <td>30mnt</td>\n",
       "      <td>Mudah</td>\n",
       "      <td>4 Porsi</td>\n",
       "      <td>300 g tempe, iris tipis, 150 g tepung terigu, ...</td>\n",
       "      <td>https://www.masakapahariini.com/resep/resep-te...</td>\n",
       "      <td>['g', 'tempe', 'iris', 'tipis', 'g', 'tepung',...</td>\n",
       "      <td>['tempe', 'tepung', 'terigu', 'tepung', 'maize...</td>\n",
       "      <td>bawang putih, bawang merah, kaldu ayam, cabai ...</td>\n",
       "      <td>30</td>\n",
       "      <td>...</td>\n",
       "      <td>0</td>\n",
       "      <td>0</td>\n",
       "      <td>0</td>\n",
       "      <td>0</td>\n",
       "      <td>0</td>\n",
       "      <td>1</td>\n",
       "      <td>0</td>\n",
       "      <td>0</td>\n",
       "      <td>0</td>\n",
       "      <td>0</td>\n",
       "    </tr>\n",
       "    <tr>\n",
       "      <th>1</th>\n",
       "      <td>Resep Kikil Sapi Kuah Pedas Manis, Empuk, Keny...</td>\n",
       "      <td>2j 30mnt</td>\n",
       "      <td>Sedang</td>\n",
       "      <td>4 Porsi</td>\n",
       "      <td>500 g             \\t\\t\\t\\ttunjang atau kikil y...</td>\n",
       "      <td>https://www.masakapahariini.com/resep/resep-ki...</td>\n",
       "      <td>['g', 'tunjang', 'atau', 'kikil', 'yang', 'sud...</td>\n",
       "      <td>['tunjang', 'kikil', 'yang', 'sudah', 'dibersi...</td>\n",
       "      <td>bawang putih, bawang merah, kecap manis, cabai...</td>\n",
       "      <td>150</td>\n",
       "      <td>...</td>\n",
       "      <td>0</td>\n",
       "      <td>0</td>\n",
       "      <td>1</td>\n",
       "      <td>0</td>\n",
       "      <td>0</td>\n",
       "      <td>0</td>\n",
       "      <td>1</td>\n",
       "      <td>0</td>\n",
       "      <td>0</td>\n",
       "      <td>0</td>\n",
       "    </tr>\n",
       "    <tr>\n",
       "      <th>2</th>\n",
       "      <td>Resep Tempe Penyet Sambal Petis Sederhana ala ...</td>\n",
       "      <td>30mnt</td>\n",
       "      <td>Mudah</td>\n",
       "      <td>4 Porsi</td>\n",
       "      <td>300 g tempe, potong tebal 2 cm, ½ sdm garam, 1...</td>\n",
       "      <td>https://www.masakapahariini.com/resep/resep-te...</td>\n",
       "      <td>['g', 'tempe', 'potong', 'tebal', 'cm', 'sdm',...</td>\n",
       "      <td>['tempe', 'garam', 'ketumbar', 'santan', 'kela...</td>\n",
       "      <td>bawang putih, kecap manis, cabai merah, cabai ...</td>\n",
       "      <td>30</td>\n",
       "      <td>...</td>\n",
       "      <td>1</td>\n",
       "      <td>0</td>\n",
       "      <td>0</td>\n",
       "      <td>0</td>\n",
       "      <td>0</td>\n",
       "      <td>1</td>\n",
       "      <td>0</td>\n",
       "      <td>0</td>\n",
       "      <td>0</td>\n",
       "      <td>0</td>\n",
       "    </tr>\n",
       "    <tr>\n",
       "      <th>3</th>\n",
       "      <td>Resep Bakmi Jawa Jogja Goreng Enak dan Gampang...</td>\n",
       "      <td>1jam</td>\n",
       "      <td>Mudah</td>\n",
       "      <td>2 Porsi</td>\n",
       "      <td>200 g mie basah, 150 g dada ayam fillet, poton...</td>\n",
       "      <td>https://www.masakapahariini.com/resep/resep-ba...</td>\n",
       "      <td>['g', 'mie', 'basah', 'g', 'dada', 'ayam', 'fi...</td>\n",
       "      <td>['mie', 'basah', 'dada', 'ayam', 'telur', 'aya...</td>\n",
       "      <td>bawang putih, bawang merah, kecap manis, kaldu...</td>\n",
       "      <td>60</td>\n",
       "      <td>...</td>\n",
       "      <td>0</td>\n",
       "      <td>0</td>\n",
       "      <td>0</td>\n",
       "      <td>0</td>\n",
       "      <td>1</td>\n",
       "      <td>0</td>\n",
       "      <td>0</td>\n",
       "      <td>0</td>\n",
       "      <td>0</td>\n",
       "      <td>0</td>\n",
       "    </tr>\n",
       "    <tr>\n",
       "      <th>4</th>\n",
       "      <td>Resep Sayur Asem Bening Sederhana ala Rumahan,...</td>\n",
       "      <td>45mnt</td>\n",
       "      <td>Mudah</td>\n",
       "      <td>4 Porsi</td>\n",
       "      <td>1 buah             \\t\\t\\t\\tjagung manis, poton...</td>\n",
       "      <td>https://www.masakapahariini.com/resep/resep-sa...</td>\n",
       "      <td>['buah', 'jagung', 'manis', 'potong', 'bagian'...</td>\n",
       "      <td>['jagung', 'manis', 'labu', 'siam', 'melinjo',...</td>\n",
       "      <td>bawang merah, kaldu ayam, cabai merah, daun sa...</td>\n",
       "      <td>45</td>\n",
       "      <td>...</td>\n",
       "      <td>0</td>\n",
       "      <td>0</td>\n",
       "      <td>0</td>\n",
       "      <td>0</td>\n",
       "      <td>0</td>\n",
       "      <td>0</td>\n",
       "      <td>0</td>\n",
       "      <td>0</td>\n",
       "      <td>0</td>\n",
       "      <td>0</td>\n",
       "    </tr>\n",
       "  </tbody>\n",
       "</table>\n",
       "<p>5 rows × 62 columns</p>\n",
       "</div>"
      ],
      "text/plain": [
       "                                       Judul Masakan Waktu Masak  \\\n",
       "0  Resep Tempe Goreng Tepung Pedas Krispi yang Bi...       30mnt   \n",
       "1  Resep Kikil Sapi Kuah Pedas Manis, Empuk, Keny...    2j 30mnt   \n",
       "2  Resep Tempe Penyet Sambal Petis Sederhana ala ...       30mnt   \n",
       "3  Resep Bakmi Jawa Jogja Goreng Enak dan Gampang...        1jam   \n",
       "4  Resep Sayur Asem Bening Sederhana ala Rumahan,...       45mnt   \n",
       "\n",
       "  Tingkat Kesulitan Jumlah Porsi  \\\n",
       "0             Mudah      4 Porsi   \n",
       "1            Sedang      4 Porsi   \n",
       "2             Mudah      4 Porsi   \n",
       "3             Mudah      2 Porsi   \n",
       "4             Mudah      4 Porsi   \n",
       "\n",
       "                                         Bahan-bahan  \\\n",
       "0  300 g tempe, iris tipis, 150 g tepung terigu, ...   \n",
       "1  500 g             \\t\\t\\t\\ttunjang atau kikil y...   \n",
       "2  300 g tempe, potong tebal 2 cm, ½ sdm garam, 1...   \n",
       "3  200 g mie basah, 150 g dada ayam fillet, poton...   \n",
       "4  1 buah             \\t\\t\\t\\tjagung manis, poton...   \n",
       "\n",
       "                                          URL Sumber  \\\n",
       "0  https://www.masakapahariini.com/resep/resep-te...   \n",
       "1  https://www.masakapahariini.com/resep/resep-ki...   \n",
       "2  https://www.masakapahariini.com/resep/resep-te...   \n",
       "3  https://www.masakapahariini.com/resep/resep-ba...   \n",
       "4  https://www.masakapahariini.com/resep/resep-sa...   \n",
       "\n",
       "                                 Bahan-bahan_cleaned  \\\n",
       "0  ['g', 'tempe', 'iris', 'tipis', 'g', 'tepung',...   \n",
       "1  ['g', 'tunjang', 'atau', 'kikil', 'yang', 'sud...   \n",
       "2  ['g', 'tempe', 'potong', 'tebal', 'cm', 'sdm',...   \n",
       "3  ['g', 'mie', 'basah', 'g', 'dada', 'ayam', 'fi...   \n",
       "4  ['buah', 'jagung', 'manis', 'potong', 'bagian'...   \n",
       "\n",
       "                          Bahan-bahan_cleaned_nostop  \\\n",
       "0  ['tempe', 'tepung', 'terigu', 'tepung', 'maize...   \n",
       "1  ['tunjang', 'kikil', 'yang', 'sudah', 'dibersi...   \n",
       "2  ['tempe', 'garam', 'ketumbar', 'santan', 'kela...   \n",
       "3  ['mie', 'basah', 'dada', 'ayam', 'telur', 'aya...   \n",
       "4  ['jagung', 'manis', 'labu', 'siam', 'melinjo',...   \n",
       "\n",
       "                                     bahan-bahan_fix  Waktu Masak (menit)  \\\n",
       "0  bawang putih, bawang merah, kaldu ayam, cabai ...                   30   \n",
       "1  bawang putih, bawang merah, kecap manis, cabai...                  150   \n",
       "2  bawang putih, kecap manis, cabai merah, cabai ...                   30   \n",
       "3  bawang putih, bawang merah, kecap manis, kaldu...                   60   \n",
       "4  bawang merah, kaldu ayam, cabai merah, daun sa...                   45   \n",
       "\n",
       "   ...  santan  seledri serai  tahu  telur  tempe  tomat  udang  wijen  wortel  \n",
       "0  ...       0        0     0     0      0      1      0      0      0       0  \n",
       "1  ...       0        0     1     0      0      0      1      0      0       0  \n",
       "2  ...       1        0     0     0      0      1      0      0      0       0  \n",
       "3  ...       0        0     0     0      1      0      0      0      0       0  \n",
       "4  ...       0        0     0     0      0      0      0      0      0       0  \n",
       "\n",
       "[5 rows x 62 columns]"
      ]
     },
     "metadata": {},
     "output_type": "display_data"
    },
    {
     "name": "stdout",
     "output_type": "stream",
     "text": [
      "\n",
      "Informasi Dataset:\n",
      "<class 'pandas.core.frame.DataFrame'>\n",
      "RangeIndex: 732 entries, 0 to 731\n",
      "Data columns (total 62 columns):\n",
      " #   Column                       Non-Null Count  Dtype  \n",
      "---  ------                       --------------  -----  \n",
      " 0   Judul Masakan                732 non-null    object \n",
      " 1   Waktu Masak                  732 non-null    object \n",
      " 2   Tingkat Kesulitan            732 non-null    object \n",
      " 3   Jumlah Porsi                 732 non-null    object \n",
      " 4   Bahan-bahan                  732 non-null    object \n",
      " 5   URL Sumber                   732 non-null    object \n",
      " 6   Bahan-bahan_cleaned          732 non-null    object \n",
      " 7   Bahan-bahan_cleaned_nostop   732 non-null    object \n",
      " 8   bahan-bahan_fix              732 non-null    object \n",
      " 9   Waktu Masak (menit)          732 non-null    int64  \n",
      " 10  Jumlah Porsi (int)           732 non-null    int64  \n",
      " 11  Tingkat Kesulitan (ordinal)  726 non-null    float64\n",
      " 12  bahan_list                   732 non-null    object \n",
      " 13  asam jawa                    732 non-null    int64  \n",
      " 14  bawang                       732 non-null    int64  \n",
      " 15  bawang merah                 732 non-null    int64  \n",
      " 16  bawang putih                 732 non-null    int64  \n",
      " 17  cabai                        732 non-null    int64  \n",
      " 18  cabai hijau                  732 non-null    int64  \n",
      " 19  cabai merah                  732 non-null    int64  \n",
      " 20  cabai rawit                  732 non-null    int64  \n",
      " 21  cengkih                      732 non-null    int64  \n",
      " 22  cuka                         732 non-null    int64  \n",
      " 23  daging ayam                  732 non-null    int64  \n",
      " 24  daging kambing               732 non-null    int64  \n",
      " 25  daging sapi                  732 non-null    int64  \n",
      " 26  daun bawang                  732 non-null    int64  \n",
      " 27  daun jeruk                   732 non-null    int64  \n",
      " 28  daun salam                   732 non-null    int64  \n",
      " 29  garam                        732 non-null    int64  \n",
      " 30  gula                         732 non-null    int64  \n",
      " 31  gula merah                   732 non-null    int64  \n",
      " 32  gula pasir                   732 non-null    int64  \n",
      " 33  ikan                         732 non-null    int64  \n",
      " 34  jagung                       732 non-null    int64  \n",
      " 35  jahe                         732 non-null    int64  \n",
      " 36  jamur                        732 non-null    int64  \n",
      " 37  jeruk nipis                  732 non-null    int64  \n",
      " 38  kacang                       732 non-null    int64  \n",
      " 39  kaldu ayam                   732 non-null    int64  \n",
      " 40  kaldu sapi                   732 non-null    int64  \n",
      " 41  kayu manis                   732 non-null    int64  \n",
      " 42  kecap manis                  732 non-null    int64  \n",
      " 43  kemangi                      732 non-null    int64  \n",
      " 44  kemiri                       732 non-null    int64  \n",
      " 45  kencur                       732 non-null    int64  \n",
      " 46  ketumbar                     732 non-null    int64  \n",
      " 47  kol                          732 non-null    int64  \n",
      " 48  kunyit                       732 non-null    int64  \n",
      " 49  lengkuas                     732 non-null    int64  \n",
      " 50  limau                        732 non-null    int64  \n",
      " 51  merica                       732 non-null    int64  \n",
      " 52  santan                       732 non-null    int64  \n",
      " 53  seledri                      732 non-null    int64  \n",
      " 54  serai                        732 non-null    int64  \n",
      " 55  tahu                         732 non-null    int64  \n",
      " 56  telur                        732 non-null    int64  \n",
      " 57  tempe                        732 non-null    int64  \n",
      " 58  tomat                        732 non-null    int64  \n",
      " 59  udang                        732 non-null    int64  \n",
      " 60  wijen                        732 non-null    int64  \n",
      " 61  wortel                       732 non-null    int64  \n",
      "dtypes: float64(1), int64(51), object(10)\n",
      "memory usage: 354.7+ KB\n"
     ]
    }
   ],
   "source": [
    "# --- 1. Setup dan Pemuatan Data ---\n",
    "import pandas as pd\n",
    "import numpy as np\n",
    "import matplotlib.pyplot as plt\n",
    "import seaborn as sns\n",
    "from sklearn.decomposition import PCA\n",
    "\n",
    "# Mengatur gaya visualisasi\n",
    "sns.set_style('whitegrid')\n",
    "plt.rcParams['figure.figsize'] = (12, 8)\n",
    "\n",
    "# Muat dataset\n",
    "try:\n",
    "    df = pd.read_csv('cleaned.csv')\n",
    "    print(\"Dataset berhasil dimuat.\")\n",
    "    print(f\"Bentuk data: {df.shape[0]} baris, {df.shape[1]} kolom\")\n",
    "except FileNotFoundError:\n",
    "    print(\"Error: File 'cleaned.csv' tidak ditemukan. Pastikan file berada di folder yang sama.\")\n",
    "    df = None\n",
    "\n",
    "if df is not None:\n",
    "    # Tampilkan 5 baris pertama\n",
    "    print(\"\\nData Awal:\")\n",
    "    display(df.head())\n",
    "    \n",
    "    # Tampilkan informasi umum tentang dataset\n",
    "    print(\"\\nInformasi Dataset:\")\n",
    "    df.info()"
   ]
  },
  {
   "cell_type": "markdown",
   "id": "985b819f",
   "metadata": {},
   "source": [
    "# --- 2. EDA untuk Analisis Clustering ---"
   ]
  },
  {
   "cell_type": "code",
   "execution_count": 31,
   "id": "31208dff",
   "metadata": {},
   "outputs": [
    {
     "name": "stdout",
     "output_type": "stream",
     "text": [
      "\n",
      "Ringkasan Statistik untuk Fitur Numerik:\n"
     ]
    },
    {
     "data": {
      "application/vnd.microsoft.datawrangler.viewer.v0+json": {
       "columns": [
        {
         "name": "index",
         "rawType": "object",
         "type": "string"
        },
        {
         "name": "Waktu Masak (menit)",
         "rawType": "float64",
         "type": "float"
        },
        {
         "name": "Jumlah Porsi (int)",
         "rawType": "float64",
         "type": "float"
        },
        {
         "name": "Tingkat Kesulitan (ordinal)",
         "rawType": "float64",
         "type": "float"
        }
       ],
       "ref": "cad162cd-a7c3-4f66-9a9e-d3464ce7fd0b",
       "rows": [
        [
         "count",
         "732.0",
         "732.0",
         "726.0"
        ],
        [
         "mean",
         "63.38387978142077",
         "4.229508196721311",
         "1.3691460055096418"
        ],
        [
         "std",
         "27.332505209260557",
         "1.6430605317557334",
         "0.5133646556663891"
        ],
        [
         "min",
         "0.0",
         "1.0",
         "1.0"
        ],
        [
         "25%",
         "45.0",
         "4.0",
         "1.0"
        ],
        [
         "50%",
         "60.0",
         "4.0",
         "1.0"
        ],
        [
         "75%",
         "70.0",
         "4.0",
         "2.0"
        ],
        [
         "max",
         "240.0",
         "25.0",
         "3.0"
        ]
       ],
       "shape": {
        "columns": 3,
        "rows": 8
       }
      },
      "text/html": [
       "<div>\n",
       "<style scoped>\n",
       "    .dataframe tbody tr th:only-of-type {\n",
       "        vertical-align: middle;\n",
       "    }\n",
       "\n",
       "    .dataframe tbody tr th {\n",
       "        vertical-align: top;\n",
       "    }\n",
       "\n",
       "    .dataframe thead th {\n",
       "        text-align: right;\n",
       "    }\n",
       "</style>\n",
       "<table border=\"1\" class=\"dataframe\">\n",
       "  <thead>\n",
       "    <tr style=\"text-align: right;\">\n",
       "      <th></th>\n",
       "      <th>Waktu Masak (menit)</th>\n",
       "      <th>Jumlah Porsi (int)</th>\n",
       "      <th>Tingkat Kesulitan (ordinal)</th>\n",
       "    </tr>\n",
       "  </thead>\n",
       "  <tbody>\n",
       "    <tr>\n",
       "      <th>count</th>\n",
       "      <td>732.000000</td>\n",
       "      <td>732.000000</td>\n",
       "      <td>726.000000</td>\n",
       "    </tr>\n",
       "    <tr>\n",
       "      <th>mean</th>\n",
       "      <td>63.383880</td>\n",
       "      <td>4.229508</td>\n",
       "      <td>1.369146</td>\n",
       "    </tr>\n",
       "    <tr>\n",
       "      <th>std</th>\n",
       "      <td>27.332505</td>\n",
       "      <td>1.643061</td>\n",
       "      <td>0.513365</td>\n",
       "    </tr>\n",
       "    <tr>\n",
       "      <th>min</th>\n",
       "      <td>0.000000</td>\n",
       "      <td>1.000000</td>\n",
       "      <td>1.000000</td>\n",
       "    </tr>\n",
       "    <tr>\n",
       "      <th>25%</th>\n",
       "      <td>45.000000</td>\n",
       "      <td>4.000000</td>\n",
       "      <td>1.000000</td>\n",
       "    </tr>\n",
       "    <tr>\n",
       "      <th>50%</th>\n",
       "      <td>60.000000</td>\n",
       "      <td>4.000000</td>\n",
       "      <td>1.000000</td>\n",
       "    </tr>\n",
       "    <tr>\n",
       "      <th>75%</th>\n",
       "      <td>70.000000</td>\n",
       "      <td>4.000000</td>\n",
       "      <td>2.000000</td>\n",
       "    </tr>\n",
       "    <tr>\n",
       "      <th>max</th>\n",
       "      <td>240.000000</td>\n",
       "      <td>25.000000</td>\n",
       "      <td>3.000000</td>\n",
       "    </tr>\n",
       "  </tbody>\n",
       "</table>\n",
       "</div>"
      ],
      "text/plain": [
       "       Waktu Masak (menit)  Jumlah Porsi (int)  Tingkat Kesulitan (ordinal)\n",
       "count           732.000000          732.000000                   726.000000\n",
       "mean             63.383880            4.229508                     1.369146\n",
       "std              27.332505            1.643061                     0.513365\n",
       "min               0.000000            1.000000                     1.000000\n",
       "25%              45.000000            4.000000                     1.000000\n",
       "50%              60.000000            4.000000                     1.000000\n",
       "75%              70.000000            4.000000                     2.000000\n",
       "max             240.000000           25.000000                     3.000000"
      ]
     },
     "metadata": {},
     "output_type": "display_data"
    },
    {
     "name": "stdout",
     "output_type": "stream",
     "text": [
      "\n",
      "Distribusi Fitur Numerik:\n"
     ]
    },
    {
     "data": {
      "image/png": "[encoded data removed]",
      "text/plain": [
       "<Figure size 2000x600 with 3 Axes>"
      ]
     },
     "metadata": {},
     "output_type": "display_data"
    },
    {
     "name": "stdout",
     "output_type": "stream",
     "text": [
      "\n",
      "Matriks Korelasi antar Fitur Numerik:\n"
     ]
    },
    {
     "data": {
      "image/png": "[encoded data removed]",
      "text/plain": [
       "<Figure size 800x600 with 2 Axes>"
      ]
     },
     "metadata": {},
     "output_type": "display_data"
    }
   ],
   "source": [
    "# Pilih kolom numerik non-encoding untuk dianalisis\n",
    "kolom_numerik = ['Waktu Masak (menit)', 'Jumlah Porsi (int)', 'Tingkat Kesulitan (ordinal)']\n",
    "\n",
    "# a. Ringkasan Statistik\n",
    "print(\"\\nRingkasan Statistik untuk Fitur Numerik:\")\n",
    "display(df[kolom_numerik].describe())\n",
    "\n",
    "# b. Visualisasi Distribusi Fitur Numerik\n",
    "print(\"\\nDistribusi Fitur Numerik:\")\n",
    "fig, axes = plt.subplots(1, 3, figsize=(20, 6))\n",
    "fig.suptitle('Distribusi Fitur-Fitur Utama untuk Clustering', fontsize=16)\n",
    "\n",
    "sns.histplot(df['Waktu Masak (menit)'], kde=True, ax=axes[0])\n",
    "axes[0].set_title('Distribusi Waktu Masak')\n",
    "\n",
    "sns.histplot(df['Jumlah Porsi (int)'], kde=True, ax=axes[1])\n",
    "axes[1].set_title('Distribusi Jumlah Porsi')\n",
    "\n",
    "sns.histplot(df['Tingkat Kesulitan (ordinal)'], kde=True, ax=axes[2])\n",
    "axes[2].set_title('Distribusi Tingkat Kesulitan')\n",
    "\n",
    "plt.show()\n",
    "\n",
    "# c. Matriks Korelasi\n",
    "print(\"\\nMatriks Korelasi antar Fitur Numerik:\")\n",
    "plt.figure(figsize=(8, 6))\n",
    "correlation_matrix = df[kolom_numerik].corr()\n",
    "sns.heatmap(correlation_matrix, annot=True, cmap='coolwarm', fmt='.2f')\n",
    "plt.title('Heatmap Korelasi Fitur Numerik')\n",
    "plt.show()"
   ]
  },
  {
   "cell_type": "markdown",
   "id": "5ec8b361",
   "metadata": {},
   "source": [
    "# --- 3. EDA untuk Analisis Apriori ---"
   ]
  },
  {
   "cell_type": "code",
   "execution_count": 32,
   "id": "bcd4a7d7",
   "metadata": {},
   "outputs": [
    {
     "name": "stdout",
     "output_type": "stream",
     "text": [
      "\n",
      "Berhasil mengidentifikasi 49 kolom bahan.\n",
      "\n",
      "20 Bahan Paling Sering Digunakan:\n"
     ]
    },
    {
     "name": "stderr",
     "output_type": "stream",
     "text": [
      "C:\\Users\\ASUS\\AppData\\Local\\Temp\\ipykernel_14240\\3139772023.py:19: FutureWarning: \n",
      "\n",
      "Passing `palette` without assigning `hue` is deprecated and will be removed in v0.14.0. Assign the `y` variable to `hue` and set `legend=False` for the same effect.\n",
      "\n",
      "  sns.barplot(x=frekuensi_bahan.head(20).values, y=frekuensi_bahan.head(20).index, palette='viridis')\n"
     ]
    },
    {
     "data": {
      "image/png": "[encoded data removed]",
      "text/plain": [
       "<Figure size 1200x1000 with 1 Axes>"
      ]
     },
     "metadata": {},
     "output_type": "display_data"
    },
    {
     "name": "stdout",
     "output_type": "stream",
     "text": [
      "\n",
      "Analisis untuk Penentuan 'min_support':\n"
     ]
    },
    {
     "data": {
      "application/vnd.microsoft.datawrangler.viewer.v0+json": {
       "columns": [
        {
         "name": "index",
         "rawType": "object",
         "type": "string"
        },
        {
         "name": "Persentase Kemunculan (%)",
         "rawType": "float64",
         "type": "float"
        }
       ],
       "ref": "2b850989-c833-4ab9-8d20-ce71c3cec1db",
       "rows": [
        [
         "bawang putih",
         "82.5136612021858"
        ],
        [
         "bawang merah",
         "76.63934426229508"
        ],
        [
         "garam",
         "72.95081967213115"
        ],
        [
         "kecap manis",
         "64.34426229508196"
        ],
        [
         "kaldu ayam",
         "43.71584699453552"
        ],
        [
         "merica",
         "42.07650273224044"
        ],
        [
         "cabai merah",
         "38.52459016393443"
        ],
        [
         "daun salam",
         "37.56830601092896"
        ],
        [
         "serai",
         "37.02185792349727"
        ],
        [
         "cabai rawit",
         "36.885245901639344"
        ],
        [
         "jahe",
         "34.97267759562842"
        ],
        [
         "lengkuas",
         "34.97267759562842"
        ],
        [
         "kemiri",
         "30.327868852459016"
        ],
        [
         "daun jeruk",
         "30.191256830601095"
        ],
        [
         "ketumbar",
         "28.278688524590162"
        ],
        [
         "tomat",
         "26.912568306010932"
        ],
        [
         "santan",
         "25.273224043715846"
        ],
        [
         "gula pasir",
         "24.043715846994534"
        ],
        [
         "telur",
         "23.497267759562842"
        ],
        [
         "kunyit",
         "23.36065573770492"
        ]
       ],
       "shape": {
        "columns": 1,
        "rows": 20
       }
      },
      "text/html": [
       "<div>\n",
       "<style scoped>\n",
       "    .dataframe tbody tr th:only-of-type {\n",
       "        vertical-align: middle;\n",
       "    }\n",
       "\n",
       "    .dataframe tbody tr th {\n",
       "        vertical-align: top;\n",
       "    }\n",
       "\n",
       "    .dataframe thead th {\n",
       "        text-align: right;\n",
       "    }\n",
       "</style>\n",
       "<table border=\"1\" class=\"dataframe\">\n",
       "  <thead>\n",
       "    <tr style=\"text-align: right;\">\n",
       "      <th></th>\n",
       "      <th>Persentase Kemunculan (%)</th>\n",
       "    </tr>\n",
       "  </thead>\n",
       "  <tbody>\n",
       "    <tr>\n",
       "      <th>bawang putih</th>\n",
       "      <td>82.513661</td>\n",
       "    </tr>\n",
       "    <tr>\n",
       "      <th>bawang merah</th>\n",
       "      <td>76.639344</td>\n",
       "    </tr>\n",
       "    <tr>\n",
       "      <th>garam</th>\n",
       "      <td>72.950820</td>\n",
       "    </tr>\n",
       "    <tr>\n",
       "      <th>kecap manis</th>\n",
       "      <td>64.344262</td>\n",
       "    </tr>\n",
       "    <tr>\n",
       "      <th>kaldu ayam</th>\n",
       "      <td>43.715847</td>\n",
       "    </tr>\n",
       "    <tr>\n",
       "      <th>merica</th>\n",
       "      <td>42.076503</td>\n",
       "    </tr>\n",
       "    <tr>\n",
       "      <th>cabai merah</th>\n",
       "      <td>38.524590</td>\n",
       "    </tr>\n",
       "    <tr>\n",
       "      <th>daun salam</th>\n",
       "      <td>37.568306</td>\n",
       "    </tr>\n",
       "    <tr>\n",
       "      <th>serai</th>\n",
       "      <td>37.021858</td>\n",
       "    </tr>\n",
       "    <tr>\n",
       "      <th>cabai rawit</th>\n",
       "      <td>36.885246</td>\n",
       "    </tr>\n",
       "    <tr>\n",
       "      <th>jahe</th>\n",
       "      <td>34.972678</td>\n",
       "    </tr>\n",
       "    <tr>\n",
       "      <th>lengkuas</th>\n",
       "      <td>34.972678</td>\n",
       "    </tr>\n",
       "    <tr>\n",
       "      <th>kemiri</th>\n",
       "      <td>30.327869</td>\n",
       "    </tr>\n",
       "    <tr>\n",
       "      <th>daun jeruk</th>\n",
       "      <td>30.191257</td>\n",
       "    </tr>\n",
       "    <tr>\n",
       "      <th>ketumbar</th>\n",
       "      <td>28.278689</td>\n",
       "    </tr>\n",
       "    <tr>\n",
       "      <th>tomat</th>\n",
       "      <td>26.912568</td>\n",
       "    </tr>\n",
       "    <tr>\n",
       "      <th>santan</th>\n",
       "      <td>25.273224</td>\n",
       "    </tr>\n",
       "    <tr>\n",
       "      <th>gula pasir</th>\n",
       "      <td>24.043716</td>\n",
       "    </tr>\n",
       "    <tr>\n",
       "      <th>telur</th>\n",
       "      <td>23.497268</td>\n",
       "    </tr>\n",
       "    <tr>\n",
       "      <th>kunyit</th>\n",
       "      <td>23.360656</td>\n",
       "    </tr>\n",
       "  </tbody>\n",
       "</table>\n",
       "</div>"
      ],
      "text/plain": [
       "              Persentase Kemunculan (%)\n",
       "bawang putih                  82.513661\n",
       "bawang merah                  76.639344\n",
       "garam                         72.950820\n",
       "kecap manis                   64.344262\n",
       "kaldu ayam                    43.715847\n",
       "merica                        42.076503\n",
       "cabai merah                   38.524590\n",
       "daun salam                    37.568306\n",
       "serai                         37.021858\n",
       "cabai rawit                   36.885246\n",
       "jahe                          34.972678\n",
       "lengkuas                      34.972678\n",
       "kemiri                        30.327869\n",
       "daun jeruk                    30.191257\n",
       "ketumbar                      28.278689\n",
       "tomat                         26.912568\n",
       "santan                        25.273224\n",
       "gula pasir                    24.043716\n",
       "telur                         23.497268\n",
       "kunyit                        23.360656"
      ]
     },
     "metadata": {},
     "output_type": "display_data"
    },
    {
     "name": "stdout",
     "output_type": "stream",
     "text": [
      "\n",
      "SARAN: Bahan terpopuler ke-20 muncul di 23.36% resep.\n",
      "Anda bisa memulai analisis Apriori dengan nilai min_support sekitar 0.234 atau sedikit lebih rendah.\n"
     ]
    }
   ],
   "source": [
    "# a. Identifikasi kolom bahan\n",
    "try:\n",
    "    # Cari indeks kolom 'asam jawa'\n",
    "    start_col_index = df.columns.get_loc('asam jawa')\n",
    "    # Pilih semua kolom dari 'asam jawa' sampai akhir\n",
    "    kolom_bahan = df.columns[start_col_index:]\n",
    "    print(f\"\\nBerhasil mengidentifikasi {len(kolom_bahan)} kolom bahan.\")\n",
    "except KeyError:\n",
    "    print(\"Kolom 'asam jawa' tidak ditemukan. Silakan sesuaikan nama kolom.\")\n",
    "    kolom_bahan = []\n",
    "\n",
    "if len(kolom_bahan) > 0:\n",
    "    # b. Hitung Frekuensi Setiap Bahan\n",
    "    frekuensi_bahan = df[kolom_bahan].sum().sort_values(ascending=False)\n",
    "    \n",
    "    # c. Visualisasi 20 Bahan Paling Populer\n",
    "    print(\"\\n20 Bahan Paling Sering Digunakan:\")\n",
    "    plt.figure(figsize=(12, 10))\n",
    "    sns.barplot(x=frekuensi_bahan.head(20).values, y=frekuensi_bahan.head(20).index, palette='viridis')\n",
    "    plt.title('Top 20 Bahan Paling Populer dalam Resep', fontsize=16)\n",
    "    plt.xlabel('Jumlah Resep')\n",
    "    plt.ylabel('Nama Bahan')\n",
    "    plt.show()\n",
    "\n",
    "    # d. Analisis untuk Menentukan min_support\n",
    "    print(\"\\nAnalisis untuk Penentuan 'min_support':\")\n",
    "    # Hitung persentase kemunculan untuk 20 bahan teratas\n",
    "    persentase_kemunculan = (frekuensi_bahan.head(20) / len(df)) * 100\n",
    "    display(persentase_kemunculan.to_frame(name='Persentase Kemunculan (%)'))\n",
    "    \n",
    "    min_support_saran = persentase_kemunculan.iloc[-1] / 100\n",
    "    print(f\"\\nSARAN: Bahan terpopuler ke-20 muncul di {persentase_kemunculan.iloc[-1]:.2f}% resep.\")\n",
    "    print(f\"Anda bisa memulai analisis Apriori dengan nilai min_support sekitar {min_support_saran:.3f} atau sedikit lebih rendah.\")"
   ]
  },
  {
   "cell_type": "markdown",
   "id": "a64a9096",
   "metadata": {},
   "source": [
    "# --- Langkah 1 & 2: Memuat dan Pra-pemrosesan Data ---"
   ]
  },
  {
   "cell_type": "code",
   "execution_count": null,
   "id": "ad53e944",
   "metadata": {},
   "outputs": [],
   "source": [
    "import pandas as pd\n",
    "from mlxtend.frequent_patterns import apriori, association_rules\n",
    "from mlxtend.preprocessing import TransactionEncoder\n",
    "\n",
    "nama_file = 'data_resep_new_cleaned.csv'\n",
    "try:\n",
    "    df = pd.read_csv(nama_file)\n",
    "except FileNotFoundError:\n",
    "    print(f\"Error: File '{nama_file}' tidak ditemukan.\")\n",
    "    exit()\n",
    "\n",
    "df.dropna(subset=['bahan-bahan_fix'], inplace=True)\n",
    "transactions = df['bahan-bahan_fix'].apply(lambda x: [item.strip() for item in x.split(',')])\n",
    "te = TransactionEncoder()\n",
    "te_ary = te.fit(transactions).transform(transactions)\n",
    "df_onehot = pd.DataFrame(te_ary, columns=te.columns_)\n",
    "\n"
   ]
  },
  {
   "cell_type": "markdown",
   "id": "d7aad8d4",
   "metadata": {},
   "source": [
    "# --- Langkah 3: Menjalankan Algoritma Apriori ---"
   ]
  },
  {
   "cell_type": "code",
   "execution_count": null,
   "id": "99cd74d4",
   "metadata": {},
   "outputs": [
    {
     "name": "stdout",
     "output_type": "stream",
     "text": [
      "Menjalankan Apriori dengan min_support = 0.1\n",
      "Total itemset yang ditemukan: 1156\n",
      "\n"
     ]
    }
   ],
   "source": [
    "min_support_val = 0.1\n",
    "frequent_itemsets = apriori(df_onehot, min_support=min_support_val, use_colnames=True)\n",
    "print(f\"Menjalankan Apriori dengan min_support = {min_support_val}\")\n",
    "print(f\"Total itemset yang ditemukan: {len(frequent_itemsets)}\\n\")\n"
   ]
  },
  {
   "cell_type": "markdown",
   "id": "f4ef9c83",
   "metadata": {},
   "source": [
    "# --- Langkah 4: Membuat Aturan Asosiasi ---"
   ]
  },
  {
   "cell_type": "code",
   "execution_count": 22,
   "id": "cc7f7e6f",
   "metadata": {},
   "outputs": [
    {
     "name": "stdout",
     "output_type": "stream",
     "text": [
      "Menghasilkan 2930 aturan awal dengan min_confidence = 0.7\n",
      "\n"
     ]
    }
   ],
   "source": [
    "min_confidence_val = 0.7\n",
    "if not frequent_itemsets.empty:\n",
    "    all_rules = association_rules(frequent_itemsets, metric=\"confidence\", min_threshold=min_confidence_val)\n",
    "    print(f\"Menghasilkan {len(all_rules)} aturan awal dengan min_confidence = {min_confidence_val}\\n\")\n",
    "else:\n",
    "    all_rules = pd.DataFrame() # Buat dataframe kosong jika tidak ada itemset"
   ]
  },
  {
   "cell_type": "markdown",
   "id": "72325fa2",
   "metadata": {},
   "source": [
    "# --- Langkah 5: FILTER dan Tampilkan Hasil yang Paling Berguna ---"
   ]
  },
  {
   "cell_type": "code",
   "execution_count": 23,
   "id": "57505ec4",
   "metadata": {},
   "outputs": [
    {
     "name": "stdout",
     "output_type": "stream",
     "text": [
      "Setelah filter 'lift > 2', tersisa 604 aturan.\n",
      "Setelah filter kompleksitas (maks 3 antecedents, 1 consequent), tersisa 201 aturan.\n",
      "\n",
      "--- HASIL AKHIR: ATURAN ASOSIASI YANG SIGNIFIKAN DAN SEDERHANA ---\n",
      "                               antecedents consequents   support  confidence  \\\n",
      "1773               jahe, serai, daun jeruk      kunyit  0.105191    0.726415   \n",
      "1798           daun salam, serai, ketumbar      kemiri  0.101093    0.831461   \n",
      "1799             daun salam, serai, kemiri    ketumbar  0.101093    0.740000   \n",
      "1196    bawang merah, daun salam, ketumbar      kemiri  0.118852    0.776786   \n",
      "563                   daun salam, ketumbar      kemiri  0.120219    0.771930   \n",
      "1772              jahe, kunyit, daun jeruk       serai  0.105191    0.939024   \n",
      "1551    bawang putih, daun salam, ketumbar      kemiri  0.116120    0.765766   \n",
      "1499      bawang putih, kunyit, daun jeruk       serai  0.125683    0.920000   \n",
      "1387         bawang merah, serai, ketumbar      kemiri  0.114754    0.750000   \n",
      "1136      bawang merah, kunyit, daun jeruk       serai  0.127049    0.911765   \n",
      "542                     kunyit, daun jeruk       serai  0.131148    0.905660   \n",
      "637                        serai, ketumbar      kemiri  0.116120    0.739130   \n",
      "1580      bawang putih, daun salam, santan    lengkuas  0.101093    0.850575   \n",
      "1771                   jahe, kunyit, serai  daun jeruk  0.105191    0.733333   \n",
      "1224      bawang merah, daun salam, santan    lengkuas  0.106557    0.847826   \n",
      "1100  bawang merah, daun salam, daun jeruk       serai  0.117486    0.895833   \n",
      "1743         bawang putih, serai, ketumbar      kemiri  0.112022    0.732143   \n",
      "1132      bawang merah, daun jeruk, kemiri       serai  0.122951    0.891089   \n",
      "1135           bawang merah, kunyit, serai  daun jeruk  0.127049    0.726562   \n",
      "1498           bawang putih, kunyit, serai  daun jeruk  0.125683    0.724409   \n",
      "\n",
      "          lift  \n",
      "1773  3.109566  \n",
      "1798  2.741573  \n",
      "1799  2.616812  \n",
      "1196  2.561293  \n",
      "563   2.545282  \n",
      "1772  2.536405  \n",
      "1551  2.524957  \n",
      "1499  2.485018  \n",
      "1387  2.472973  \n",
      "1136  2.462774  \n",
      "542   2.446286  \n",
      "637   2.437133  \n",
      "1580  2.432112  \n",
      "1771  2.428959  \n",
      "1224  2.424253  \n",
      "1100  2.419742  \n",
      "1743  2.414093  \n",
      "1132  2.406927  \n",
      "1135  2.406533  \n",
      "1498  2.399401  \n"
     ]
    },
    {
     "name": "stderr",
     "output_type": "stream",
     "text": [
      "C:\\Users\\ASUS\\AppData\\Local\\Temp\\ipykernel_14240\\278244826.py:9: SettingWithCopyWarning: \n",
      "A value is trying to be set on a copy of a slice from a DataFrame.\n",
      "Try using .loc[row_indexer,col_indexer] = value instead\n",
      "\n",
      "See the caveats in the documentation: https://pandas.pydata.org/pandas-docs/stable/user_guide/indexing.html#returning-a-view-versus-a-copy\n",
      "  filtered_rules['antecedent_len'] = filtered_rules['antecedents'].apply(lambda x: len(x))\n",
      "C:\\Users\\ASUS\\AppData\\Local\\Temp\\ipykernel_14240\\278244826.py:10: SettingWithCopyWarning: \n",
      "A value is trying to be set on a copy of a slice from a DataFrame.\n",
      "Try using .loc[row_indexer,col_indexer] = value instead\n",
      "\n",
      "See the caveats in the documentation: https://pandas.pydata.org/pandas-docs/stable/user_guide/indexing.html#returning-a-view-versus-a-copy\n",
      "  filtered_rules['consequent_len'] = filtered_rules['consequents'].apply(lambda x: len(x))\n"
     ]
    }
   ],
   "source": [
    "if not all_rules.empty:\n",
    "    # Filter 1: Ambil aturan yang memiliki kekuatan hubungan signifikan (Lift > 1.5)\n",
    "    filtered_rules = all_rules[all_rules['lift'] > 2]\n",
    "    print(f\"Setelah filter 'lift > 2', tersisa {len(filtered_rules)} aturan.\")\n",
    "\n",
    "    # Filter 2: Ambil aturan yang sederhana agar mudah diinterpretasi\n",
    "    # Contoh: kita ingin aturan dengan maksimal 2 bahan di sisi 'JIKA' (antecedents)\n",
    "    # dan 1 bahan di sisi 'MAKA' (consequents)\n",
    "    filtered_rules['antecedent_len'] = filtered_rules['antecedents'].apply(lambda x: len(x))\n",
    "    filtered_rules['consequent_len'] = filtered_rules['consequents'].apply(lambda x: len(x))\n",
    "    \n",
    "    # Menerapkan filter kompleksitas\n",
    "    simple_rules = filtered_rules[\n",
    "        (filtered_rules['antecedent_len'] <= 3) & \n",
    "        (filtered_rules['consequent_len'] <= 1)\n",
    "    ]\n",
    "    print(f\"Setelah filter kompleksitas (maks 3 antecedents, 1 consequent), tersisa {len(simple_rules)} aturan.\")\n",
    "    \n",
    "    print(\"\\n--- HASIL AKHIR: ATURAN ASOSIASI YANG SIGNIFIKAN DAN SEDERHANA ---\")\n",
    "    if not simple_rules.empty:\n",
    "        # Mengurutkan hasil berdasarkan Lift dan Confidence\n",
    "        final_rules = simple_rules.sort_values(by=['lift', 'confidence'], ascending=[False, False])\n",
    "        \n",
    "        # Membersihkan tampilan output\n",
    "        final_rules['antecedents'] = final_rules['antecedents'].apply(lambda a: ', '.join(list(a)))\n",
    "        final_rules['consequents'] = final_rules['consequents'].apply(lambda a: ', '.join(list(a)))\n",
    "        output_df = final_rules[['antecedents', 'consequents', 'support', 'confidence', 'lift']]\n",
    "        \n",
    "        pd.set_option('display.max_rows', 100)\n",
    "        print(output_df.head(20)) # Menampilkan 20 aturan terbaik\n",
    "    else:\n",
    "        print(\"Tidak ditemukan aturan yang sederhana dan signifikan dengan filter saat ini.\")\n",
    "        print(\"Coba longgarkan filter (misal: turunkan lift, atau izinkan lebih banyak item).\")\n",
    "else:\n",
    "    print(\"Tidak ada aturan yang bisa dibuat. Coba turunkan nilai `min_support` pada Apriori.\")"
   ]
  },
  {
   "cell_type": "markdown",
   "id": "69f78e1b",
   "metadata": {},
   "source": [
    "# --- Langkah 6: Membuat File JSON Aturan ---"
   ]
  },
  {
   "cell_type": "code",
   "execution_count": 19,
   "id": "4ad78ddb",
   "metadata": {},
   "outputs": [],
   "source": [
    "import json\n",
    "\n",
    "# Membuat dict dengan format \"antecedents\": \"consequents\"\n",
    "rules_dict = {\n",
    "    row['antecedents']: row['consequents']\n",
    "    for _, row in final_rules.iterrows()\n",
    "}\n",
    "\n",
    "with open(\"aturan_asosiasi_dict.json\", \"w\", encoding=\"utf-8\") as f:\n",
    "    json.dump(rules_dict, f, ensure_ascii=False, indent=2)\n"
   ]
  },
  {
   "cell_type": "markdown",
   "id": "f00af210",
   "metadata": {},
   "source": [
    "# --- Langkah 7: FILTER dan Tampilkan Hasil yang Paling Berguna ---"
   ]
  },
  {
   "cell_type": "code",
   "execution_count": 21,
   "id": "cdec13f5",
   "metadata": {},
   "outputs": [],
   "source": [
    "final_rules.to_csv('hasil_aturan_asosiasi.csv', index=False)"
   ]
  }
 ],
 "metadata": {
  "kernelspec": {
   "display_name": "compe",
   "language": "python",
   "name": "python3"
  },
  "language_info": {
   "codemirror_mode": {
    "name": "ipython",
    "version": 3
   },
   "file_extension": ".py",
   "mimetype": "text/x-python",
   "name": "python",
   "nbconvert_exporter": "python",
   "pygments_lexer": "ipython3",
   "version": "3.10.17"
  }
 },
 "nbformat": 4,
 "nbformat_minor": 5
}
